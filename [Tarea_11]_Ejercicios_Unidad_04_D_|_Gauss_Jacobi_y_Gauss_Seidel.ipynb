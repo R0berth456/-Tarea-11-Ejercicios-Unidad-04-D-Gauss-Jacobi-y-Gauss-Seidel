{
  "nbformat": 4,
  "nbformat_minor": 0,
  "metadata": {
    "colab": {
      "provenance": [],
      "authorship_tag": "ABX9TyONR0ZashnG2h4nd7zQbrAQ",
      "include_colab_link": true
    },
    "kernelspec": {
      "name": "python3",
      "display_name": "Python 3"
    },
    "language_info": {
      "name": "python"
    }
  },
  "cells": [
    {
      "cell_type": "markdown",
      "metadata": {
        "id": "view-in-github",
        "colab_type": "text"
      },
      "source": [
        "<a href=\"https://colab.research.google.com/github/R0berth456/-Tarea-11-Ejercicios-Unidad-04-D-Gauss-Jacobi-y-Gauss-Seidel/blob/main/%5BTarea_11%5D_Ejercicios_Unidad_04_D_%7C_Gauss_Jacobi_y_Gauss_Seidel.ipynb\" target=\"_parent\"><img src=\"https://colab.research.google.com/assets/colab-badge.svg\" alt=\"Open In Colab\"/></a>"
      ]
    },
    {
      "cell_type": "markdown",
      "source": [
        "Primer Literal"
      ],
      "metadata": {
        "id": "IH_KSRahUc1E"
      }
    },
    {
      "cell_type": "code",
      "source": [
        "import numpy as np\n",
        "\n",
        "def gauss_jacobi(\n",
        "    A: np.array, b: np.array, x0: np.array, tol: float, max_iter: int\n",
        ") -> np.array:\n",
        "    # --- Validación de los argumentos de la función ---\n",
        "    if not isinstance(A, np.ndarray):\n",
        "        A = np.array(A, dtype=float)\n",
        "    assert A.shape[0] == A.shape[1], \"La matriz A debe ser de tamaño n-by-(n).\"\n",
        "\n",
        "    if not isinstance(b, np.ndarray):\n",
        "        b = np.array(b, dtype=float)\n",
        "    assert b.shape[0] == A.shape[0], \"El vector b debe ser de tamaño n.\"\n",
        "\n",
        "    if not isinstance(x0, np.ndarray):\n",
        "        x0 = np.array(x0, dtype=float)\n",
        "    assert x0.shape[0] == A.shape[0], \"El vector x0 debe ser de tamaño n.\"\n",
        "\n",
        "    # --- Algoritmo ---\n",
        "    n = A.shape[0]\n",
        "    x = x0.copy()\n",
        "    for k in range(1, max_iter):\n",
        "        x_new = np.zeros((n, 1))  # prealloc\n",
        "        for i in range(n):\n",
        "            suma = sum([A[i, j] * x[j] for j in range(n) if j != i])\n",
        "            x_new[i] = (b[i] - suma) / A[i, i]\n",
        "\n",
        "        if np.linalg.norm(x_new - x) < tol:\n",
        "            return x_new\n",
        "\n",
        "        x = x_new.copy()\n",
        "\n",
        "    return x"
      ],
      "metadata": {
        "id": "XkSOL5j3UukK"
      },
      "execution_count": 1,
      "outputs": []
    },
    {
      "cell_type": "markdown",
      "source": [
        "a)"
      ],
      "metadata": {
        "id": "6muKrh7JU9xs"
      }
    },
    {
      "cell_type": "code",
      "execution_count": 2,
      "metadata": {
        "colab": {
          "base_uri": "https://localhost:8080/"
        },
        "id": "appa0EA-USOJ",
        "outputId": "b69f4dc4-165d-4f2d-a2a9-a918e2005929"
      },
      "outputs": [
        {
          "output_type": "stream",
          "name": "stdout",
          "text": [
            "[[ 0.0350863 ]\n",
            " [-0.23685698]\n",
            " [ 0.65787809]]\n"
          ]
        }
      ],
      "source": [
        "A = [\n",
        "    [3, -1, 1],\n",
        "    [3, 6, 2],\n",
        "    [3, 3, 7]\n",
        "]\n",
        "\n",
        "b = [1, 0, 4]\n",
        "\n",
        "x = gauss_jacobi(A, b, [0, 0, 0], 10e-5, 100)\n",
        "print(x)\n"
      ]
    },
    {
      "cell_type": "markdown",
      "source": [
        "b)"
      ],
      "metadata": {
        "id": "h-2Bq_WsVUAT"
      }
    },
    {
      "cell_type": "code",
      "source": [
        "A = [\n",
        "    [10, -1, 1],\n",
        "    [-1, 10, -2],\n",
        "    [0, -2, 10]\n",
        "]\n",
        "\n",
        "b = [9, 7, 6]\n",
        "\n",
        "x = gauss_jacobi(A, b, [0, 0, 0], 10e-5, 100)\n",
        "print(x)"
      ],
      "metadata": {
        "colab": {
          "base_uri": "https://localhost:8080/"
        },
        "id": "7nuwCcHtVU4P",
        "outputId": "336e9c4f-9f6f-4cd9-d9fd-ce6c5fcf957c"
      },
      "execution_count": 3,
      "outputs": [
        {
          "output_type": "stream",
          "name": "stdout",
          "text": [
            "[[0.9159701]\n",
            " [0.9495603]\n",
            " [0.7899054]]\n"
          ]
        }
      ]
    },
    {
      "cell_type": "markdown",
      "source": [
        "c)"
      ],
      "metadata": {
        "id": "McTkMgV-VcJv"
      }
    },
    {
      "cell_type": "code",
      "source": [
        "A = [\n",
        "    [10, 5, 0, 0],\n",
        "    [5, 10, -4, 0],\n",
        "    [0, -4, -8, 1],\n",
        "    [0, 0, -1, 5]\n",
        "]\n",
        "\n",
        "b = [6, 25, -11, -11]\n",
        "\n",
        "x = gauss_jacobi(A, b, [0, 0, 0, 0], 10e-5, 100)\n",
        "print(x)"
      ],
      "metadata": {
        "colab": {
          "base_uri": "https://localhost:8080/"
        },
        "id": "SnUUm9qUVc89",
        "outputId": "a1dc2eca-0854-4102-8a48-1741c176ea3a"
      },
      "execution_count": 4,
      "outputs": [
        {
          "output_type": "stream",
          "name": "stdout",
          "text": [
            "[[-0.78792172]\n",
            " [ 2.77583088]\n",
            " [-0.29530611]\n",
            " [-2.25906474]]\n"
          ]
        }
      ]
    },
    {
      "cell_type": "markdown",
      "source": [
        "d)"
      ],
      "metadata": {
        "id": "NoRGqC6kVqup"
      }
    },
    {
      "cell_type": "code",
      "source": [
        "A = [\n",
        "    [4, 1, 1, 0, 1],\n",
        "    [-1, -3, 1, 1, 0],\n",
        "    [2, 1, 5, -1, -1],\n",
        "    [-1, -1, -1, 4, 0],\n",
        "    [0, 2, -1, 1, 4]\n",
        "]\n",
        "\n",
        "b = [6, 6, 6, 6, 6]\n",
        "\n",
        "x = gauss_jacobi(A, b, [0, 0, 0, 0, 0], 10e-5, 100)\n",
        "print(x)"
      ],
      "metadata": {
        "colab": {
          "base_uri": "https://localhost:8080/"
        },
        "id": "d0Uz2akyVrnV",
        "outputId": "9e65bf32-29fd-468c-e952-b8843629707b"
      },
      "execution_count": 5,
      "outputs": [
        {
          "output_type": "stream",
          "name": "stdout",
          "text": [
            "[[ 0.78661584]\n",
            " [-1.00257369]\n",
            " [ 1.86634212]\n",
            " [ 1.91259293]\n",
            " [ 1.98974776]]\n"
          ]
        }
      ]
    },
    {
      "cell_type": "markdown",
      "source": [
        "Segundo Literal"
      ],
      "metadata": {
        "id": "z8wbCdfkWPEp"
      }
    },
    {
      "cell_type": "code",
      "source": [
        "def gauss_seidel(\n",
        "    A: np.array, b: np.array, x0: np.array, tol: float, max_iter: int\n",
        ") -> np.array:\n",
        "    # --- Validación de los argumentos de la función ---\n",
        "    if not isinstance(A, np.ndarray):\n",
        "        A = np.array(A, dtype=float)\n",
        "    assert A.shape[0] == A.shape[1], \"La matriz A debe ser de tamaño n-by-(n).\"\n",
        "\n",
        "    if not isinstance(b, np.ndarray):\n",
        "        b = np.array(b, dtype=float)\n",
        "    assert b.shape[0] == A.shape[0], \"El vector b debe ser de tamaño n.\"\n",
        "\n",
        "    if not isinstance(x0, np.ndarray):\n",
        "        x0 = np.array(x0, dtype=float)\n",
        "    assert x0.shape[0] == A.shape[0], \"El vector x0 debe ser de tamaño n.\"\n",
        "\n",
        "    # --- Algoritmo ---\n",
        "    n = A.shape[0]\n",
        "    x = x0.copy()\n",
        "\n",
        "    for k in range(1, max_iter):\n",
        "        x_new = np.zeros((n, 1))  # prealloc\n",
        "        for i in range(n):\n",
        "            suma = sum([A[i, j] * x_new[j] for j in range(i) if j != i]) + sum(\n",
        "                [A[i, j] * x[j] for j in range(i, n) if j != i]\n",
        "            )\n",
        "            x_new[i] = (b[i] - suma) / A[i, i]\n",
        "\n",
        "        if np.linalg.norm(x_new - x) < tol:\n",
        "            return x_new\n",
        "\n",
        "        x = x_new.copy()\n",
        "\n",
        "    return x"
      ],
      "metadata": {
        "id": "0_zlKjWVWSFG"
      },
      "execution_count": 6,
      "outputs": []
    },
    {
      "cell_type": "markdown",
      "source": [
        "a)"
      ],
      "metadata": {
        "id": "qhN2K0jBWQi8"
      }
    },
    {
      "cell_type": "code",
      "source": [
        "A = [\n",
        "    [3, -1, 1],\n",
        "    [3, 6, 2],\n",
        "    [3, 3, 7]\n",
        "]\n",
        "\n",
        "b = [1, 0, 4]\n",
        "\n",
        "x = gauss_seidel(A, b, [0, 0, 0], 10e-5, 100)\n",
        "print(x)\n"
      ],
      "metadata": {
        "colab": {
          "base_uri": "https://localhost:8080/"
        },
        "id": "ddpNzOvCWRdM",
        "outputId": "a0b5742c-eb23-4042-f234-c554e76c8bd8"
      },
      "execution_count": 7,
      "outputs": [
        {
          "output_type": "stream",
          "name": "stdout",
          "text": [
            "[[ 0.03510326]\n",
            " [-0.23683891]\n",
            " [ 0.6578867 ]]\n"
          ]
        }
      ]
    },
    {
      "cell_type": "markdown",
      "source": [
        "b)"
      ],
      "metadata": {
        "id": "HdQ-a0HUWlpk"
      }
    },
    {
      "cell_type": "code",
      "source": [
        "\n",
        "A = [\n",
        "    [10, -1, 1],\n",
        "    [-1, 10, -2],\n",
        "    [0, -2, 10]\n",
        "]\n",
        "\n",
        "b = [9, 7, 6]\n",
        "\n",
        "x = gauss_seidel(A, b, [0, 0, 0], 10e-5, 100)\n",
        "print(x)\n"
      ],
      "metadata": {
        "colab": {
          "base_uri": "https://localhost:8080/"
        },
        "id": "abJuEFnxWmaT",
        "outputId": "46c5fa8a-6224-4b38-a947-8fe4dfb2bca8"
      },
      "execution_count": 8,
      "outputs": [
        {
          "output_type": "stream",
          "name": "stdout",
          "text": [
            "[[0.91596497]\n",
            " [0.94957898]\n",
            " [0.7899158 ]]\n"
          ]
        }
      ]
    },
    {
      "cell_type": "markdown",
      "source": [
        "c)"
      ],
      "metadata": {
        "id": "NGOZph4WWwPt"
      }
    },
    {
      "cell_type": "code",
      "source": [
        "A = [\n",
        "    [10, 5, 0, 0],\n",
        "    [5, 10, -4, 0],\n",
        "    [0, -4, -8, 1],\n",
        "    [0, 0, -1, 5]\n",
        "]\n",
        "\n",
        "b = [6, 25, -11, -11]\n",
        "\n",
        "x = gauss_seidel(A, b, [0, 0, 0, 0], 10e-5, 100)\n",
        "print(x)\n"
      ],
      "metadata": {
        "colab": {
          "base_uri": "https://localhost:8080/"
        },
        "id": "hBT2l_BtWw7L",
        "outputId": "ccc3209d-f3e8-4373-ae5e-11b8f654711a"
      },
      "execution_count": 9,
      "outputs": [
        {
          "output_type": "stream",
          "name": "stdout",
          "text": [
            "[[-0.78791707]\n",
            " [ 2.77583885]\n",
            " [-0.29530191]\n",
            " [-2.25906038]]\n"
          ]
        }
      ]
    },
    {
      "cell_type": "markdown",
      "source": [
        "d)"
      ],
      "metadata": {
        "id": "gpCqAL8AW8ck"
      }
    },
    {
      "cell_type": "code",
      "source": [
        "A = [\n",
        "    [4, 1, 1, 0, 1],\n",
        "    [-1, -3, 1, 1, 0],\n",
        "    [2, 1, 5, -1, -1],\n",
        "    [-1, -1, -1, 4, 0],\n",
        "    [0, 2, -1, 1, 4]\n",
        "]\n",
        "\n",
        "b = [6, 6, 6, 6, 6]\n",
        "\n",
        "x = gauss_seidel(A, b, [0, 0, 0, 0, 0], 10e-5, 100)\n",
        "print(x)"
      ],
      "metadata": {
        "colab": {
          "base_uri": "https://localhost:8080/"
        },
        "id": "7vvtoZe8W9Ri",
        "outputId": "031fb9dc-e6ff-4446-ffac-22e693a25651"
      },
      "execution_count": 10,
      "outputs": [
        {
          "output_type": "stream",
          "name": "stdout",
          "text": [
            "[[ 0.78663577]\n",
            " [-1.00257108]\n",
            " [ 1.86632614]\n",
            " [ 1.91259771]\n",
            " [ 1.98971765]]\n"
          ]
        }
      ]
    },
    {
      "cell_type": "markdown",
      "source": [
        "Tercer Literal"
      ],
      "metadata": {
        "id": "DKK2yrtBXKan"
      }
    },
    {
      "cell_type": "markdown",
      "source": [
        "a)"
      ],
      "metadata": {
        "id": "WEZzm1MdXL1l"
      }
    },
    {
      "cell_type": "code",
      "source": [
        "A = [\n",
        "    [3, -1, 1],\n",
        "    [3, 6, 2],\n",
        "    [3, 3, 7]\n",
        "]\n",
        "\n",
        "b = [1, 0, 4]\n",
        "\n",
        "x = gauss_jacobi(A, b, [0, 0, 0], 10e-3, 100)\n",
        "print(x)"
      ],
      "metadata": {
        "colab": {
          "base_uri": "https://localhost:8080/"
        },
        "id": "8fLmLc_FXMpy",
        "outputId": "d805e6eb-2535-4615-bdc0-d80a5bb5bc88"
      },
      "execution_count": 11,
      "outputs": [
        {
          "output_type": "stream",
          "name": "stdout",
          "text": [
            "[[ 0.03516089]\n",
            " [-0.23570619]\n",
            " [ 0.65922185]]\n"
          ]
        }
      ]
    },
    {
      "cell_type": "markdown",
      "source": [
        "b)"
      ],
      "metadata": {
        "id": "iDWVXFIJXl-m"
      }
    },
    {
      "cell_type": "code",
      "source": [
        "A = [\n",
        "    [10, -1, 1],\n",
        "    [-1, 10, -2],\n",
        "    [0, -2, 10]\n",
        "]\n",
        "\n",
        "b = [9, 7, 6]\n",
        "\n",
        "x = gauss_jacobi(A, b, [0, 0, 0], 10e-3, 100)\n",
        "print(x)"
      ],
      "metadata": {
        "colab": {
          "base_uri": "https://localhost:8080/"
        },
        "id": "gyS0gxl0XnNB",
        "outputId": "495a974d-ee47-489a-cb89-4837e6246487"
      },
      "execution_count": 13,
      "outputs": [
        {
          "output_type": "stream",
          "name": "stdout",
          "text": [
            "[[0.91603]\n",
            " [0.94913]\n",
            " [0.78962]]\n"
          ]
        }
      ]
    },
    {
      "cell_type": "markdown",
      "source": [
        "c)"
      ],
      "metadata": {
        "id": "8eBkxtmRYE7f"
      }
    },
    {
      "cell_type": "code",
      "source": [
        "A = [\n",
        "    [10, 5, 0, 0],\n",
        "    [5, 10, -4, 0],\n",
        "    [0, -4, -8, 1],\n",
        "    [0, 0, -1, 5]\n",
        "]\n",
        "\n",
        "b = [6, 25, -11, -11]\n",
        "\n",
        "x = gauss_jacobi(A, b, [0, 0, 0, 0], 10e-3, 100)\n",
        "print(x)\n"
      ],
      "metadata": {
        "colab": {
          "base_uri": "https://localhost:8080/"
        },
        "id": "m4tRvIYMYF1C",
        "outputId": "446eed3d-c48c-4a2a-fc4f-04cb29501cbc"
      },
      "execution_count": 14,
      "outputs": [
        {
          "output_type": "stream",
          "name": "stdout",
          "text": [
            "[[-0.788375  ]\n",
            " [ 2.77715625]\n",
            " [-0.29553125]\n",
            " [-2.26032813]]\n"
          ]
        }
      ]
    },
    {
      "cell_type": "markdown",
      "source": [
        "d)"
      ],
      "metadata": {
        "id": "OXSAXVSeYaaZ"
      }
    },
    {
      "cell_type": "code",
      "source": [
        "A = [\n",
        "    [4, 1, 1, 0, 1],\n",
        "    [-1, -3, 1, 1, 0],\n",
        "    [2, 1, 5, -1, -1],\n",
        "    [-1, -1, -1, 4, 0],\n",
        "    [0, 2, -1, 1, 4]\n",
        "]\n",
        "\n",
        "b = [6, 6, 6, 6, 6]\n",
        "\n",
        "x = gauss_jacobi(A, b, [0, 0, 0, 0, 0], 10e-3, 100)\n",
        "print(x)"
      ],
      "metadata": {
        "colab": {
          "base_uri": "https://localhost:8080/"
        },
        "id": "dW9AtzzdYZMT",
        "outputId": "00d8fb41-d876-424f-d1f5-36462b5925b1"
      },
      "execution_count": 15,
      "outputs": [
        {
          "output_type": "stream",
          "name": "stdout",
          "text": [
            "[[ 0.78718101]\n",
            " [-1.00174151]\n",
            " [ 1.8658388 ]\n",
            " [ 1.91274157]\n",
            " [ 1.98672138]]\n"
          ]
        }
      ]
    },
    {
      "cell_type": "markdown",
      "source": [
        "Cuarto Literal"
      ],
      "metadata": {
        "id": "Z1wTOeT5Y3SP"
      }
    },
    {
      "cell_type": "markdown",
      "source": [
        "a)"
      ],
      "metadata": {
        "id": "orNFY1MnY5KK"
      }
    },
    {
      "cell_type": "code",
      "source": [
        "A = [\n",
        "    [3, -1, 1],\n",
        "    [3, 6, 2],\n",
        "    [3, 3, 7]\n",
        "]\n",
        "\n",
        "b = [1, 0, 4]\n",
        "\n",
        "x = gauss_seidel(A, b, [0, 0, 0], 10e-3, 100)\n",
        "print(x)"
      ],
      "metadata": {
        "colab": {
          "base_uri": "https://localhost:8080/"
        },
        "id": "Nj1nkthNY5-L",
        "outputId": "d6d32f15-8d2f-4ff2-ed8d-667fbfa0ef46"
      },
      "execution_count": 16,
      "outputs": [
        {
          "output_type": "stream",
          "name": "stdout",
          "text": [
            "[[ 0.0361492 ]\n",
            " [-0.23660752]\n",
            " [ 0.65733928]]\n"
          ]
        }
      ]
    },
    {
      "cell_type": "markdown",
      "source": [
        "b)"
      ],
      "metadata": {
        "id": "ZkokOe9RaN7F"
      }
    },
    {
      "cell_type": "code",
      "source": [
        "A = [\n",
        "    [10, -1, 1],\n",
        "    [-1, 10, -2],\n",
        "    [0, -2, 10]\n",
        "]\n",
        "\n",
        "b = [9, 7, 6]\n",
        "\n",
        "x = gauss_seidel(A, b, [0, 0, 0], 10e-3, 100)\n",
        "print(x)\n"
      ],
      "metadata": {
        "colab": {
          "base_uri": "https://localhost:8080/"
        },
        "id": "1txr6VHJaPVJ",
        "outputId": "34c5279f-60d4-42bc-c1f6-a83fc49ab582"
      },
      "execution_count": 17,
      "outputs": [
        {
          "output_type": "stream",
          "name": "stdout",
          "text": [
            "[[0.91593697]\n",
            " [0.94956218]\n",
            " [0.78991244]]\n"
          ]
        }
      ]
    },
    {
      "cell_type": "markdown",
      "source": [
        "c)"
      ],
      "metadata": {
        "id": "SkNi0z0iaYS1"
      }
    },
    {
      "cell_type": "code",
      "source": [
        "A = [\n",
        "    [10, 5, 0, 0],\n",
        "    [5, 10, -4, 0],\n",
        "    [0, -4, -8, 1],\n",
        "    [0, 0, -1, 5]\n",
        "]\n",
        "\n",
        "b = [6, 25, -11, -11]\n",
        "\n",
        "x = gauss_seidel(A, b, [0, 0, 0, 0], 10e-3, 100)\n",
        "print(x)"
      ],
      "metadata": {
        "colab": {
          "base_uri": "https://localhost:8080/"
        },
        "id": "4eQvvXpNaZVR",
        "outputId": "122feb9d-b9c0-4ed4-f149-2530b505fd7f"
      },
      "execution_count": 19,
      "outputs": [
        {
          "output_type": "stream",
          "name": "stdout",
          "text": [
            "[[-0.78802812]\n",
            " [ 2.77579328]\n",
            " [-0.29528544]\n",
            " [-2.25905709]]\n"
          ]
        }
      ]
    },
    {
      "cell_type": "markdown",
      "source": [
        "d)"
      ],
      "metadata": {
        "id": "ctMTJ79la2UE"
      }
    },
    {
      "cell_type": "code",
      "source": [
        "A = [\n",
        "    [4, 1, 1, 0, 1],\n",
        "    [-1, -3, 1, 1, 0],\n",
        "    [2, 1, 5, -1, -1],\n",
        "    [-1, -1, -1, 4, 0],\n",
        "    [0, 2, -1, 1, 4]\n",
        "]\n",
        "\n",
        "b = [6, 6, 6, 6, 6]\n",
        "\n",
        "x = gauss_seidel(A, b, [0, 0, 0, 0, 0], 10e-3, 100)\n",
        "print(x)"
      ],
      "metadata": {
        "colab": {
          "base_uri": "https://localhost:8080/"
        },
        "id": "KJhprLd_a3Fq",
        "outputId": "11d94c0b-5b8e-4102-e5b1-4cd3ac84a5de"
      },
      "execution_count": 20,
      "outputs": [
        {
          "output_type": "stream",
          "name": "stdout",
          "text": [
            "[[ 0.78616258]\n",
            " [-1.00240703]\n",
            " [ 1.86606999]\n",
            " [ 1.91245638]\n",
            " [ 1.98960692]]\n"
          ]
        }
      ]
    },
    {
      "cell_type": "markdown",
      "source": [
        "Quinto Literal"
      ],
      "metadata": {
        "id": "YVVuKpJdbKc0"
      }
    },
    {
      "cell_type": "markdown",
      "source": [
        "a)"
      ],
      "metadata": {
        "id": "rd6vtD3gbL3B"
      }
    },
    {
      "cell_type": "code",
      "source": [
        "A = [\n",
        "    [2, -1, 1],\n",
        "    [2, 2, 2],\n",
        "    [-1, -1, 2]\n",
        "]\n",
        "\n",
        "b = [-1, 4, -5]\n",
        "\n",
        "x = gauss_jacobi(A, b, [0, 0, 0], 10e-5, 25)\n",
        "print(x)\n"
      ],
      "metadata": {
        "colab": {
          "base_uri": "https://localhost:8080/"
        },
        "id": "3YLv00UQbO52",
        "outputId": "55da2fde-57ae-4e89-cbad-5038c909e868"
      },
      "execution_count": 30,
      "outputs": [
        {
          "output_type": "stream",
          "name": "stdout",
          "text": [
            "[[ -7.73114914]\n",
            " [-32.92459655]\n",
            " [  7.73114914]]\n"
          ]
        }
      ]
    },
    {
      "cell_type": "markdown",
      "source": [
        "b)"
      ],
      "metadata": {
        "id": "aKwp69ngbapz"
      }
    },
    {
      "cell_type": "code",
      "source": [
        "A = [\n",
        "    [2, -1, 1],\n",
        "    [2, 2, 2],\n",
        "    [-1, -1, 2]\n",
        "]\n",
        "\n",
        "b = [-1, 4, -5]\n",
        "\n",
        "x = gauss_seidel(A, b, [0, 0, 0], 10e-5, 25)\n",
        "print(x)\n"
      ],
      "metadata": {
        "colab": {
          "base_uri": "https://localhost:8080/"
        },
        "id": "C4Q9KGiqbbjz",
        "outputId": "148c7ed1-8055-4a89-ad21-260abde60a33"
      },
      "execution_count": 22,
      "outputs": [
        {
          "output_type": "stream",
          "name": "stdout",
          "text": [
            "[[ 0.99998474]\n",
            " [ 2.00001717]\n",
            " [-0.99999905]]\n"
          ]
        }
      ]
    },
    {
      "cell_type": "markdown",
      "source": [
        "Sexto Literal"
      ],
      "metadata": {
        "id": "26SMJchRfR3t"
      }
    },
    {
      "cell_type": "markdown",
      "source": [
        "b)"
      ],
      "metadata": {
        "id": "qB9OjgLSfTeD"
      }
    },
    {
      "cell_type": "code",
      "source": [
        "A = [\n",
        "    [1, 0, -1],\n",
        "    [-0.5, 1, -0.25],\n",
        "    [1, -0.5, 1]\n",
        "]\n",
        "\n",
        "b = [0.2, -1.425, 2]\n",
        "\n",
        "x = gauss_seidel(A, b, [0, 0, 0], 10e-22, 300)\n",
        "print(x)\n",
        "print()\n",
        "y = gauss_jacobi(A, b, [0, 0, 0], 10e-22, 300)\n",
        "print(y)"
      ],
      "metadata": {
        "colab": {
          "base_uri": "https://localhost:8080/"
        },
        "id": "rDni1zr2fV0i",
        "outputId": "a53059f7-bfcc-48db-fc52-fa08505a21db"
      },
      "execution_count": 27,
      "outputs": [
        {
          "output_type": "stream",
          "name": "stdout",
          "text": [
            "[[ 0.9]\n",
            " [-0.8]\n",
            " [ 0.7]]\n",
            "\n",
            "[[ 0.89979164]\n",
            " [-0.80015806]\n",
            " [ 0.70025541]]\n"
          ]
        }
      ]
    },
    {
      "cell_type": "markdown",
      "source": [
        "c)"
      ],
      "metadata": {
        "id": "irwKFKawhqk_"
      }
    },
    {
      "cell_type": "code",
      "source": [
        "A = [\n",
        "    [1, 0, -2],\n",
        "    [-0.5, 1, -0.25],\n",
        "    [1, -0.5, 1]\n",
        "]\n",
        "\n",
        "b = [0.2, -1.425, 2]\n",
        "\n",
        "x = gauss_seidel(A, b, [0, 0, 0], 10e-22, 300)\n",
        "print(x)\n",
        "print()\n",
        "y = gauss_jacobi(A, b, [0, 0, 0], 10e-22, 300)\n",
        "print(y)"
      ],
      "metadata": {
        "colab": {
          "base_uri": "https://localhost:8080/"
        },
        "id": "e1mPdwJShrV_",
        "outputId": "ef439d87-0105-417b-9274-43fb664f6f5f"
      },
      "execution_count": 31,
      "outputs": [
        {
          "output_type": "stream",
          "name": "stdout",
          "text": [
            "[[-1.56863478e+41]\n",
            " [-9.80396739e+40]\n",
            " [ 1.07843641e+41]]\n",
            "\n",
            "[[-1.79225360e+43]\n",
            " [-4.51500391e+42]\n",
            " [ 6.72394565e+42]]\n"
          ]
        }
      ]
    },
    {
      "cell_type": "markdown",
      "source": [
        "Octavo Literal"
      ],
      "metadata": {
        "id": "DjNNT4a0jKcD"
      }
    },
    {
      "cell_type": "markdown",
      "source": [
        "b)"
      ],
      "metadata": {
        "id": "92MNBxmClaPZ"
      }
    },
    {
      "cell_type": "code",
      "source": [
        "A = [\n",
        "   [4, -1, 0, 0, -1, 0, 0, 0, 0, 0, 0, 0],\n",
        "   [-1, 4, .1, 0, 0, 0, 0, 0, 0, 0, 0, 0],\n",
        "   [0, -1, 4, -1, 0, 0, 0, 0, 0, 0, 0, 0],\n",
        "   [0, 0, -1, 4, 0, -1, 0, 0, 0, 0, 0, 0],\n",
        "   [-1, 0, 0, 0, 4, 0, -1, 0, 0, 0, 0, 0],\n",
        "   [0, 0, 0, -1, 0, 4, 0, -1, 0, 0, 0, 0],\n",
        "   [0, 0, 0, 0, -1, 0, 4, 0, -1, 0, 0, 0],\n",
        "   [0, 0, 0, 0, 0, -1, 0, 4, 0, 0, 0, -1],\n",
        "   [0, 0, 0, 0, 0, 0, -1, 0, 4, -1, 0, 0],\n",
        "   [0, 0, 0, 0, 0, 0, 0, 0, -1, 4, -1, 0],\n",
        "   [0, 0, 0, 0, 0, 0, 0, 0, 0, -1, 4, -1],\n",
        "   [0, 0, 0, 0, 0, -1, 0, 0, 0, 0, -1, 4]\n",
        "]\n",
        "\n",
        "b = [220, 110, 110, 220, 110, 110, 110, 110, 220, 110, 110, 220]\n",
        "\n",
        "x = gauss_jacobi(A, b, [0, 0, 0, 0, 0, 0, 0, 0, 0, 0, 0, 0], 10, 250)\n",
        "print(x)"
      ],
      "metadata": {
        "colab": {
          "base_uri": "https://localhost:8080/"
        },
        "id": "pTdX3Z_kmaky",
        "outputId": "f54f01ca-9d5a-47c6-9053-3a49ea2ce778"
      },
      "execution_count": 37,
      "outputs": [
        {
          "output_type": "stream",
          "name": "stdout",
          "text": [
            "[[81.59873047]\n",
            " [46.05927734]\n",
            " [59.57724609]\n",
            " [84.89550781]\n",
            " [62.87402344]\n",
            " [63.58300781]\n",
            " [63.58300781]\n",
            " [63.70117188]\n",
            " [85.72265625]\n",
            " [63.70117188]\n",
            " [63.70117188]\n",
            " [85.72265625]]\n"
          ]
        }
      ]
    },
    {
      "cell_type": "markdown",
      "source": [
        "c)"
      ],
      "metadata": {
        "id": "PUreKz2omZTL"
      }
    },
    {
      "cell_type": "code",
      "source": [
        "A = [\n",
        "   [4, -1, 0, 0, -1, 0, 0, 0, 0, 0, 0, 0],\n",
        "   [-1, 4, .1, 0, 0, 0, 0, 0, 0, 0, 0, 0],\n",
        "   [0, -1, 4, -1, 0, 0, 0, 0, 0, 0, 0, 0],\n",
        "   [0, 0, -1, 4, 0, -1, 0, 0, 0, 0, 0, 0],\n",
        "   [-1, 0, 0, 0, 4, 0, -1, 0, 0, 0, 0, 0],\n",
        "   [0, 0, 0, -1, 0, 4, 0, -1, 0, 0, 0, 0],\n",
        "   [0, 0, 0, 0, -1, 0, 4, 0, -1, 0, 0, 0],\n",
        "   [0, 0, 0, 0, 0, -1, 0, 4, 0, 0, 0, -1],\n",
        "   [0, 0, 0, 0, 0, 0, -1, 0, 4, -1, 0, 0],\n",
        "   [0, 0, 0, 0, 0, 0, 0, 0, -1, 4, -1, 0],\n",
        "   [0, 0, 0, 0, 0, 0, 0, 0, 0, -1, 4, -1],\n",
        "   [0, 0, 0, 0, 0, -1, 0, 0, 0, 0, -1, 4]\n",
        "]\n",
        "\n",
        "b = [220, 110, 110, 220, 110, 110, 110, 110, 220, 110, 110, 220]\n",
        "\n",
        "x = gauss_seidel(A, b, [0, 0, 0, 0, 0, 0, 0, 0, 0, 0, 0, 0], 10, 250)\n",
        "print(x)"
      ],
      "metadata": {
        "colab": {
          "base_uri": "https://localhost:8080/"
        },
        "id": "pqL___KIjN10",
        "outputId": "9cdc31f5-33ac-4ead-8c95-cb66b873edb6"
      },
      "execution_count": 36,
      "outputs": [
        {
          "output_type": "stream",
          "name": "stdout",
          "text": [
            "[[82.04627686]\n",
            " [46.53746918]\n",
            " [60.13291847]\n",
            " [85.94719503]\n",
            " [63.77875061]\n",
            " [65.11658196]\n",
            " [64.70993881]\n",
            " [65.5444085 ]\n",
            " [87.1606638 ]\n",
            " [65.43725257]\n",
            " [65.62457615]\n",
            " [87.68528953]]\n"
          ]
        }
      ]
    }
  ]
}